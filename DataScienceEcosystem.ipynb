{
 "cells": [
  {
   "cell_type": "markdown",
   "id": "6cd032ba-b6c6-465e-84ae-45e37f4b29d3",
   "metadata": {},
   "source": [
    "# Data Science Tools and Ecosystem"
   ]
  },
  {
   "cell_type": "markdown",
   "id": "0d82f50a-b7a5-4e85-a055-c0fb5c28ff46",
   "metadata": {},
   "source": [
    "In this notebook, Data Science Tools and Ecosystem are summarized."
   ]
  },
  {
   "cell_type": "markdown",
   "id": "9b1ff3bc-277c-4254-95e8-0ca683d7570e",
   "metadata": {},
   "source": [
    "**Objectives:**\n",
    "* List popular languages for Data Science\n",
    "* Explore Data Science Methodolgy\n",
    "* Discover Machine Learning algorythms"
   ]
  },
  {
   "cell_type": "markdown",
   "id": "cb3ee812-1a09-44eb-94bd-b948b9701e15",
   "metadata": {},
   "source": [
    "Some of the popular languages that Data Scientists use are:\n",
    "1. Python\n",
    "2. R\n",
    "3. SQL"
   ]
  },
  {
   "cell_type": "markdown",
   "id": "982a5e85-befa-4d2f-9ace-8258a2e4a5e3",
   "metadata": {},
   "source": [
    "Some of the commonly used libraries used by Data Scientists include:\n",
    "1. ggplot\n",
    "2. MatPlotLib\n",
    "3. Pandas"
   ]
  },
  {
   "cell_type": "markdown",
   "id": "01d8669d-2ee2-4298-b0cb-1149d7860ecf",
   "metadata": {},
   "source": [
    "|Data Science Tools|\n",
    "|------------------|\n",
    "|JupyterNB|\n",
    "|RStudio|\n",
    "|Anaconda|"
   ]
  },
  {
   "cell_type": "markdown",
   "id": "3457751a-dce4-4222-a457-2ec7246606bc",
   "metadata": {},
   "source": [
    "### Below are a few examples of evaluating arithmetic expressions in Python"
   ]
  },
  {
   "cell_type": "code",
   "execution_count": 11,
   "id": "dfcbf38a-4416-45a1-9fda-ab5ea4218c2b",
   "metadata": {},
   "outputs": [
    {
     "data": {
      "text/plain": [
       "17"
      ]
     },
     "execution_count": 11,
     "metadata": {},
     "output_type": "execute_result"
    }
   ],
   "source": [
    "# This a simple arithmetic expression to mutiply then add integers.\n",
    "(3*4)+5"
   ]
  },
  {
   "cell_type": "code",
   "execution_count": 27,
   "id": "f7d4cacd-3dd0-4484-b96d-8ba33f158107",
   "metadata": {},
   "outputs": [
    {
     "name": "stdout",
     "output_type": "stream",
     "text": [
      "3.3333333333333335\n"
     ]
    }
   ],
   "source": [
    "# This will convert 200 minutes to hours by diving by 60\n",
    "Minutes=200\n",
    "Hours=Minutes/60\n",
    "print(Hours)"
   ]
  },
  {
   "cell_type": "markdown",
   "id": "1cecce47-accc-4b7d-8330-ba05e49dd843",
   "metadata": {},
   "source": [
    "## Author\n",
    "Akim Srithammavanh"
   ]
  },
  {
   "cell_type": "code",
   "execution_count": null,
   "id": "b5fd5bf6-59a1-4438-9639-8159e5f50829",
   "metadata": {},
   "outputs": [],
   "source": []
  }
 ],
 "metadata": {
  "kernelspec": {
   "display_name": "Python 3 (ipykernel)",
   "language": "python",
   "name": "python3"
  },
  "language_info": {
   "codemirror_mode": {
    "name": "ipython",
    "version": 3
   },
   "file_extension": ".py",
   "mimetype": "text/x-python",
   "name": "python",
   "nbconvert_exporter": "python",
   "pygments_lexer": "ipython3",
   "version": "3.12.4"
  }
 },
 "nbformat": 4,
 "nbformat_minor": 5
}
